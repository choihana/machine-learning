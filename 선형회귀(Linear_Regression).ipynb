{
  "nbformat": 4,
  "nbformat_minor": 0,
  "metadata": {
    "colab": {
      "name": "선형회귀(Linear Regression).ipynb",
      "provenance": [],
      "authorship_tag": "ABX9TyMH54T2Bs3sI5wKOQFpvBwG",
      "include_colab_link": true
    },
    "kernelspec": {
      "name": "python3",
      "display_name": "Python 3"
    }
  },
  "cells": [
    {
      "cell_type": "markdown",
      "metadata": {
        "id": "view-in-github",
        "colab_type": "text"
      },
      "source": [
        "<a href=\"https://colab.research.google.com/github/choihana/machine-learning/blob/master/%EC%84%A0%ED%98%95%ED%9A%8C%EA%B7%80(Linear_Regression).ipynb\" target=\"_parent\"><img src=\"https://colab.research.google.com/assets/colab-badge.svg\" alt=\"Open In Colab\"/></a>"
      ]
    },
    {
      "cell_type": "code",
      "metadata": {
        "id": "gET9fvZU1beN",
        "colab_type": "code",
        "colab": {}
      },
      "source": [
        ""
      ],
      "execution_count": 0,
      "outputs": []
    },
    {
      "cell_type": "markdown",
      "metadata": {
        "id": "Sj9BuIKw1iXs",
        "colab_type": "text"
      },
      "source": [
        "선형회귀를 활용하여, 섭씨온도 (Celsius,c)를 화씨온도 (Fahrenheit,F)로 변환"
      ]
    },
    {
      "cell_type": "markdown",
      "metadata": {
        "id": "RR2hz-1Z1utx",
        "colab_type": "text"
      },
      "source": [
        "F = C * 1.8 +32"
      ]
    },
    {
      "cell_type": "code",
      "metadata": {
        "id": "febw2s7B1vz9",
        "colab_type": "code",
        "colab": {}
      },
      "source": [
        "%matplotlib inline\n",
        "import numpy as np\n",
        "import pandas as pd\n",
        "import matplotlib.pyplot as plt"
      ],
      "execution_count": 0,
      "outputs": []
    },
    {
      "cell_type": "markdown",
      "metadata": {
        "id": "gEBF7YBu2QnA",
        "colab_type": "text"
      },
      "source": [
        "## Generate Dataset"
      ]
    },
    {
      "cell_type": "code",
      "metadata": {
        "id": "NIJ1KX2I2JDb",
        "colab_type": "code",
        "colab": {
          "base_uri": "https://localhost:8080/",
          "height": 119
        },
        "outputId": "f597f5ab-2ebe-4003-db4c-051d8a39e1d3"
      },
      "source": [
        "c=np.random.randint(low=0,high=100,size=100)\n",
        "c"
      ],
      "execution_count": 4,
      "outputs": [
        {
          "output_type": "execute_result",
          "data": {
            "text/plain": [
              "array([77, 97, 69, 28, 76, 57, 79, 17, 56, 96, 53, 26, 79, 77, 33, 13,  8,\n",
              "       14, 92,  9, 55, 28, 78, 24, 48, 66, 53, 79, 88, 14, 93, 51, 55, 34,\n",
              "       48, 27,  4, 41, 99, 44, 96, 73, 72, 73, 92, 74, 22, 24, 70, 48, 33,\n",
              "       92, 52, 17, 69, 32, 50, 48, 18, 35,  8,  6, 28, 31, 97, 66,  1, 22,\n",
              "       36, 16, 63, 54, 76, 97, 42, 67, 31, 31, 83, 89, 65,  4, 27,  4, 61,\n",
              "       14, 43,  3, 21, 38, 13, 47, 67, 69,  7, 55, 16, 47, 66, 27])"
            ]
          },
          "metadata": {
            "tags": []
          },
          "execution_count": 4
        }
      ]
    },
    {
      "cell_type": "code",
      "metadata": {
        "id": "JRQrVBoN2ObE",
        "colab_type": "code",
        "colab": {
          "base_uri": "https://localhost:8080/",
          "height": 221
        },
        "outputId": "604ab8bf-7059-4b84-c5e3-52a917438453"
      },
      "source": [
        "F = c*1.8 +32\n",
        "F"
      ],
      "execution_count": 6,
      "outputs": [
        {
          "output_type": "execute_result",
          "data": {
            "text/plain": [
              "array([170.6, 206.6, 156.2,  82.4, 168.8, 134.6, 174.2,  62.6, 132.8,\n",
              "       204.8, 127.4,  78.8, 174.2, 170.6,  91.4,  55.4,  46.4,  57.2,\n",
              "       197.6,  48.2, 131. ,  82.4, 172.4,  75.2, 118.4, 150.8, 127.4,\n",
              "       174.2, 190.4,  57.2, 199.4, 123.8, 131. ,  93.2, 118.4,  80.6,\n",
              "        39.2, 105.8, 210.2, 111.2, 204.8, 163.4, 161.6, 163.4, 197.6,\n",
              "       165.2,  71.6,  75.2, 158. , 118.4,  91.4, 197.6, 125.6,  62.6,\n",
              "       156.2,  89.6, 122. , 118.4,  64.4,  95. ,  46.4,  42.8,  82.4,\n",
              "        87.8, 206.6, 150.8,  33.8,  71.6,  96.8,  60.8, 145.4, 129.2,\n",
              "       168.8, 206.6, 107.6, 152.6,  87.8,  87.8, 181.4, 192.2, 149. ,\n",
              "        39.2,  80.6,  39.2, 141.8,  57.2, 109.4,  37.4,  69.8, 100.4,\n",
              "        55.4, 116.6, 152.6, 156.2,  44.6, 131. ,  60.8, 116.6, 150.8,\n",
              "        80.6])"
            ]
          },
          "metadata": {
            "tags": []
          },
          "execution_count": 6
        }
      ]
    },
    {
      "cell_type": "code",
      "metadata": {
        "id": "6zcuKuzj2hYE",
        "colab_type": "code",
        "colab": {
          "base_uri": "https://localhost:8080/",
          "height": 282
        },
        "outputId": "d0f48bf3-d97e-4d71-d315-3e82b26ae152"
      },
      "source": [
        "plt.scatter(c,F)"
      ],
      "execution_count": 7,
      "outputs": [
        {
          "output_type": "execute_result",
          "data": {
            "text/plain": [
              "<matplotlib.collections.PathCollection at 0x7fb1b94d59e8>"
            ]
          },
          "metadata": {
            "tags": []
          },
          "execution_count": 7
        },
        {
          "output_type": "display_data",
          "data": {
            "image/png": "[encoded data removed]",
            "text/plain": [
              "<Figure size 432x288 with 1 Axes>"
            ]
          },
          "metadata": {
            "tags": [],
            "needs_background": "light"
          }
        }
      ]
    },
    {
      "cell_type": "code",
      "metadata": {
        "id": "e12jEZoa2kE5",
        "colab_type": "code",
        "colab": {}
      },
      "source": [
        ""
      ],
      "execution_count": 0,
      "outputs": []
    },
    {
      "cell_type": "markdown",
      "metadata": {
        "id": "PWCDynmK4MjV",
        "colab_type": "text"
      },
      "source": [
        "## Gradient Descent"
      ]
    },
    {
      "cell_type": "code",
      "metadata": {
        "id": "Sn38u3WG4Oml",
        "colab_type": "code",
        "colab": {}
      },
      "source": [
        "X = c\n",
        "y = F"
      ],
      "execution_count": 0,
      "outputs": []
    },
    {
      "cell_type": "code",
      "metadata": {
        "id": "7aOCyNYX435v",
        "colab_type": "code",
        "colab": {}
      },
      "source": [
        ""
      ],
      "execution_count": 0,
      "outputs": []
    },
    {
      "cell_type": "markdown",
      "metadata": {
        "id": "AMC3BaPZ47FY",
        "colab_type": "text"
      },
      "source": [
        "y = w * X + b\n",
        "\n",
        "1) w값 알고 있을 때\n"
      ]
    },
    {
      "cell_type": "code",
      "metadata": {
        "id": "7rfmY0RU5FwP",
        "colab_type": "code",
        "colab": {}
      },
      "source": [
        "w = 1.8\n",
        "b = np.random.uniform(-1.0,+1.0)\n",
        "\n",
        "y_predict = w * X + b"
      ],
      "execution_count": 0,
      "outputs": []
    },
    {
      "cell_type": "code",
      "metadata": {
        "id": "nNYwx36S5Oq4",
        "colab_type": "code",
        "colab": {
          "base_uri": "https://localhost:8080/",
          "height": 282
        },
        "outputId": "fbdb7b33-3d41-4398-df99-39b4dc531a24"
      },
      "source": [
        "plt.scatter(c,F)\n",
        "plt.plot(X,y_predict,c='r')"
      ],
      "execution_count": 15,
      "outputs": [
        {
          "output_type": "execute_result",
          "data": {
            "text/plain": [
              "[<matplotlib.lines.Line2D at 0x7fb1b66eb240>]"
            ]
          },
          "metadata": {
            "tags": []
          },
          "execution_count": 15
        },
        {
          "output_type": "display_data",
          "data": {
            "image/png": "[encoded data removed]",
            "text/plain": [
              "<Figure size 432x288 with 1 Axes>"
            ]
          },
          "metadata": {
            "tags": [],
            "needs_background": "light"
          }
        }
      ]
    },
    {
      "cell_type": "code",
      "metadata": {
        "id": "-5E_vWQi5UW4",
        "colab_type": "code",
        "colab": {
          "base_uri": "https://localhost:8080/",
          "height": 34
        },
        "outputId": "0f37f8ff-578b-41a5-aa1e-74ca06187c9b"
      },
      "source": [
        "b = b - (y_predict - y).mean()\n",
        "b"
      ],
      "execution_count": 16,
      "outputs": [
        {
          "output_type": "execute_result",
          "data": {
            "text/plain": [
              "32.00000000000001"
            ]
          },
          "metadata": {
            "tags": []
          },
          "execution_count": 16
        }
      ]
    },
    {
      "cell_type": "code",
      "metadata": {
        "id": "XMH30HXz5bZS",
        "colab_type": "code",
        "colab": {
          "base_uri": "https://localhost:8080/",
          "height": 282
        },
        "outputId": "f9e778f6-ed88-4c87-94e2-000629e42c68"
      },
      "source": [
        "y_predict = w * X + b\n",
        "plt.scatter(c,F)\n",
        "plt.plot(X,y_predict,c='r')"
      ],
      "execution_count": 17,
      "outputs": [
        {
          "output_type": "execute_result",
          "data": {
            "text/plain": [
              "[<matplotlib.lines.Line2D at 0x7fb1b6523a58>]"
            ]
          },
          "metadata": {
            "tags": []
          },
          "execution_count": 17
        },
        {
          "output_type": "display_data",
          "data": {
            "image/png": "[encoded data removed]",
            "text/plain": [
              "<Figure size 432x288 with 1 Axes>"
            ]
          },
          "metadata": {
            "tags": [],
            "needs_background": "light"
          }
        }
      ]
    },
    {
      "cell_type": "markdown",
      "metadata": {
        "id": "lo-VDTdc52Pw",
        "colab_type": "text"
      },
      "source": [
        "2) w, b 값 모두 모를 때"
      ]
    },
    {
      "cell_type": "code",
      "metadata": {
        "id": "OcasecrV5xiu",
        "colab_type": "code",
        "colab": {
          "base_uri": "https://localhost:8080/",
          "height": 221
        },
        "outputId": "4f1750ad-e759-43cd-bf7a-bf8090cd5f1f"
      },
      "source": [
        "num_epoch = 100000\n",
        "learning_rate = 0.0003\n",
        "\n",
        "w=np.random.uniform(-1.0,+1.0)\n",
        "b=np.random.uniform(-1.0,+1.0)\n",
        "\n",
        "for epoch in range(num_epoch):\n",
        "  y_predict = w*X+b\n",
        "  w = w - learning_rate*((y_predict-y) * X).mean()\n",
        "  b = b - learning_rate * (y_predict-y).mean()\n",
        "\n",
        "  if epoch % 10000 == 0 :\n",
        "    print (f\"{epoch} - w={w}, b = {b}\")\n",
        "  \n",
        "print (\"----\"* 10)\n",
        "print (f\"{epoch} w={w:.6f}, b={b:.6f}\")"
      ],
      "execution_count": 23,
      "outputs": [
        {
          "output_type": "stream",
          "text": [
            "0 - w=2.124000095151585, b = 0.41845537630660384\n",
            "10000 - w=2.029581758806208, b = 17.210712551731106\n",
            "20000 - w=1.9075193785733615, b = 25.073774657668107\n",
            "30000 - w=1.8503542477804624, b = 28.7562603904641\n",
            "40000 - w=1.8235822630597343, b = 30.480868563405778\n",
            "50000 - w=1.8110442148484303, b = 31.28854945234675\n",
            "60000 - w=1.8051723060382014, b = 31.666808368543137\n",
            "70000 - w=1.802422331521068, b = 31.843957301545395\n",
            "80000 - w=1.8011344436996994, b = 31.926920962466827\n",
            "90000 - w=1.8005312908231585, b = 31.96577510015091\n",
            "----------------------------------------\n",
            "99999 w=1.800249, b=31.983970\n"
          ],
          "name": "stdout"
        }
      ]
    },
    {
      "cell_type": "code",
      "metadata": {
        "id": "HmV-3aFY6E89",
        "colab_type": "code",
        "colab": {
          "base_uri": "https://localhost:8080/",
          "height": 282
        },
        "outputId": "ecbe1d95-1be5-4b12-8b00-bfa3709d7cbf"
      },
      "source": [
        "y_predict = w *X +b\n",
        "plt.scatter(c,F)\n",
        "plt.plot(X,y_predict,c='r')"
      ],
      "execution_count": 26,
      "outputs": [
        {
          "output_type": "execute_result",
          "data": {
            "text/plain": [
              "[<matplotlib.lines.Line2D at 0x7fb1b63fdac8>]"
            ]
          },
          "metadata": {
            "tags": []
          },
          "execution_count": 26
        },
        {
          "output_type": "display_data",
          "data": {
            "image/png": "[encoded data removed]",
            "text/plain": [
              "<Figure size 432x288 with 1 Axes>"
            ]
          },
          "metadata": {
            "tags": [],
            "needs_background": "light"
          }
        }
      ]
    },
    {
      "cell_type": "code",
      "metadata": {
        "id": "OH2WKJVD7HwU",
        "colab_type": "code",
        "colab": {}
      },
      "source": [
        ""
      ],
      "execution_count": 0,
      "outputs": []
    }
  ]
}