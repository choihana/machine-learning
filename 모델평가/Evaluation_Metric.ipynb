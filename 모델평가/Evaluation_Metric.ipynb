{
  "nbformat": 4,
  "nbformat_minor": 0,
  "metadata": {
    "colab": {
      "name": "Evaluation Metric.ipynb",
      "provenance": [],
      "authorship_tag": "ABX9TyM9FwZWI/yrOR7qKQ5/7Sng",
      "include_colab_link": true
    },
    "kernelspec": {
      "name": "python3",
      "display_name": "Python 3"
    }
  },
  "cells": [
    {
      "cell_type": "markdown",
      "metadata": {
        "id": "view-in-github",
        "colab_type": "text"
      },
      "source": [
        "<a href=\"https://colab.research.google.com/github/choihana/machine-learning/blob/master/Evaluation_Metric.ipynb\" target=\"_parent\"><img src=\"https://colab.research.google.com/assets/colab-badge.svg\" alt=\"Open In Colab\"/></a>"
      ]
    },
    {
      "cell_type": "code",
      "metadata": {
        "id": "BXqS2yYNNC8a",
        "colab_type": "code",
        "colab": {}
      },
      "source": [
        ""
      ],
      "execution_count": 0,
      "outputs": []
    },
    {
      "cell_type": "markdown",
      "metadata": {
        "id": "w3S-fRHuNKqN",
        "colab_type": "text"
      },
      "source": [
        "#머신러닝 알고리즘 모델 성능 평가 방법\n",
        "\n",
        "### 1. 분류 문제에서 사용하는 측정 공식\n",
        "\n",
        "Confusion Matrix (오차행렬)\n",
        "\n",
        "---\n",
        "\n",
        "[예측,실제] \n",
        "*   TN (True Negative) [False, False] (정답)\n",
        "*   FN (False Negative) [False, True] (오답) \n",
        "*   FP (False Positive) [True, False] (오답)\n",
        "*   TP (True Posivie) [True, True] (정답)\n",
        "\n",
        "\n",
        "---\n",
        "\n",
        "1. 정확도 (Accuracy): 전체 데이터중 정답을 맞춘 비율이 얼마나 되는가 \n",
        "\n",
        "> accuracy = (TN + TP ) / (TN + FN + FP + TP)\n",
        "\n",
        "> TN, TP 가 클수록 좋음\n",
        "\n",
        "2. 정밀도 (Precision): Positive (True)라고 예측한 값중에 실제로 True인 데이터 비율 \n",
        "\n",
        "> Precision = TP / ( TP + FP )\n",
        "\n",
        "> FP 를 줄여야 해 - True라고 했는데 아닌경우 , 따라서 맞다고했는데 결과가 아닐때 치명적인 경우에 사용\n",
        "\n",
        "ex. \n",
        "\n",
        "1) 스팸문자: 스팸이라고 해서 중요한 편지 못보낸 경우\n",
        "\n",
        "2) 이직 확률 채용반영: 이직할 확률 높다고 판단하고 채용 안하는 경우 \n",
        "> 실제 이직할거라고 예측한 사람중 실제 이직하는 사람의 비율이 크면 사용하기에 적합하며 아니라면 사용하지 말아야함\n",
        "\n",
        "3. 재현율 (Recall): 실제 값이 Positive (True) 중, 실제와 예측이 같은 데이터의 비율\n",
        "\n",
        "> Recall = TP / (TP + FN)\n",
        "\n",
        "> FN 줄여야해 - False 라고 했는데 True인 경우 , 따라서 아니라고 했는데 실제 맞는 경우에 치명적일 때 사용 \n",
        "\n",
        "ex.\n",
        "\n",
        "1) 암 검진: 암 아니라고 했는데, 맞을 경우\n",
        "\n",
        "2) 강수 확률: 비 안온다고 했는데, 비 올 경우\n",
        "\n",
        "\n",
        "\n",
        "\n",
        "\n",
        "\n",
        "\n"
      ]
    },
    {
      "cell_type": "code",
      "metadata": {
        "id": "RMsC80fLNWGF",
        "colab_type": "code",
        "colab": {}
      },
      "source": [
        "from sklearn.metrics import confusion_matrix\n",
        "from sklearn.metrics import accuracy_score\n",
        "from sklearn.metrics import precision_score\n",
        "from sklearn.metrics import recall_score"
      ],
      "execution_count": 0,
      "outputs": []
    },
    {
      "cell_type": "code",
      "metadata": {
        "id": "oBJticXqQ7uq",
        "colab_type": "code",
        "colab": {}
      },
      "source": [
        "import numpy as np\n",
        "np.random.seed(123)"
      ],
      "execution_count": 0,
      "outputs": []
    },
    {
      "cell_type": "code",
      "metadata": {
        "id": "UadO05YCRRZu",
        "colab_type": "code",
        "colab": {
          "base_uri": "https://localhost:8080/",
          "height": 51
        },
        "outputId": "b919fa31-de31-48ea-bae8-f7d632e98f92"
      },
      "source": [
        "#0,1로 구성된 랜덤 리스트\n",
        "y_true = np.random.randint(low=0,high=2,size=20)\n",
        "y_pred = np.random.randint(low=0,high=2,size=20)\n",
        "print(y_true)\n",
        "print(y_pred)"
      ],
      "execution_count": 4,
      "outputs": [
        {
          "output_type": "stream",
          "text": [
            "[0 1 0 0 0 0 0 1 1 0 1 1 0 1 0 1 0 1 1 0]\n",
            "[0 0 1 1 1 0 1 0 0 0 0 1 1 1 0 0 1 0 0 1]\n"
          ],
          "name": "stdout"
        }
      ]
    },
    {
      "cell_type": "code",
      "metadata": {
        "id": "gjKpggQ3RjTd",
        "colab_type": "code",
        "colab": {
          "base_uri": "https://localhost:8080/",
          "height": 51
        },
        "outputId": "4ed3e17b-fb14-47b1-aa92-b61321e87e98"
      },
      "source": [
        "confusion_matrix(y_true,y_pred)"
      ],
      "execution_count": 5,
      "outputs": [
        {
          "output_type": "execute_result",
          "data": {
            "text/plain": [
              "array([[4, 7],\n",
              "       [7, 2]])"
            ]
          },
          "metadata": {
            "tags": []
          },
          "execution_count": 5
        }
      ]
    },
    {
      "cell_type": "code",
      "metadata": {
        "id": "d5oYsEoTRn5h",
        "colab_type": "code",
        "colab": {}
      },
      "source": [
        "TN,FN,FP,TP = confusion_matrix(y_true,y_pred).ravel()"
      ],
      "execution_count": 0,
      "outputs": []
    },
    {
      "cell_type": "code",
      "metadata": {
        "id": "ZhaMLJ7tR0mR",
        "colab_type": "code",
        "colab": {
          "base_uri": "https://localhost:8080/",
          "height": 34
        },
        "outputId": "fcc901fc-1f32-4d5f-80bc-999b2f6800c5"
      },
      "source": [
        "print(TN,FN,FP,TP)"
      ],
      "execution_count": 8,
      "outputs": [
        {
          "output_type": "stream",
          "text": [
            "4 7 7 2\n"
          ],
          "name": "stdout"
        }
      ]
    },
    {
      "cell_type": "code",
      "metadata": {
        "id": "puAwpvJrR7XX",
        "colab_type": "code",
        "colab": {
          "base_uri": "https://localhost:8080/",
          "height": 51
        },
        "outputId": "ce5ac375-6b1f-4745-e056-de711becf8f3"
      },
      "source": [
        "#정확도\n",
        "print((TN+TP)/(TN+TP+FN+FP))\n",
        "print(accuracy_score(y_true,y_pred))"
      ],
      "execution_count": 10,
      "outputs": [
        {
          "output_type": "stream",
          "text": [
            "0.3\n",
            "0.3\n"
          ],
          "name": "stdout"
        }
      ]
    },
    {
      "cell_type": "code",
      "metadata": {
        "id": "SBH3gt54SKnC",
        "colab_type": "code",
        "colab": {
          "base_uri": "https://localhost:8080/",
          "height": 51
        },
        "outputId": "4d684517-c09d-4228-d78b-453590bdec87"
      },
      "source": [
        "#정밀도\n",
        "print(TP/(FP+TP))\n",
        "print(precision_score(y_true,y_pred))"
      ],
      "execution_count": 11,
      "outputs": [
        {
          "output_type": "stream",
          "text": [
            "0.2222222222222222\n",
            "0.2222222222222222\n"
          ],
          "name": "stdout"
        }
      ]
    },
    {
      "cell_type": "code",
      "metadata": {
        "id": "RenP6q6oSqb8",
        "colab_type": "code",
        "colab": {
          "base_uri": "https://localhost:8080/",
          "height": 51
        },
        "outputId": "8b87f5a7-11d8-4c2e-b268-cbb93b8d20b0"
      },
      "source": [
        "#재현율\n",
        "print(TP/(FN+TP))\n",
        "print(recall_score(y_true,y_pred))"
      ],
      "execution_count": 12,
      "outputs": [
        {
          "output_type": "stream",
          "text": [
            "0.2222222222222222\n",
            "0.2222222222222222\n"
          ],
          "name": "stdout"
        }
      ]
    },
    {
      "cell_type": "code",
      "metadata": {
        "id": "x9EuFHFAS_T8",
        "colab_type": "code",
        "colab": {}
      },
      "source": [
        ""
      ],
      "execution_count": 0,
      "outputs": []
    }
  ]
}
